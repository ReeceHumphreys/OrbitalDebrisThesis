{
 "cells": [
  {
   "cell_type": "markdown",
   "metadata": {},
   "source": [
    "<h1>0. Packages</h1>"
   ]
  },
  {
   "cell_type": "code",
   "execution_count": 1,
   "metadata": {
    "ExecuteTime": {
     "end_time": "2021-04-01T15:38:43.251782Z",
     "start_time": "2021-04-01T15:38:38.841156Z"
    }
   },
   "outputs": [
    {
     "data": {
      "text/html": [
       "<div id=\"glowscript\" class=\"glowscript\"></div>"
      ],
      "text/plain": [
       "<IPython.core.display.HTML object>"
      ]
     },
     "metadata": {},
     "output_type": "display_data"
    },
    {
     "data": {
      "application/javascript": [
       "if (typeof Jupyter !== \"undefined\") { window.__context = { glowscript_container: $(\"#glowscript\").removeAttr(\"id\")};}else{ element.textContent = ' ';}"
      ],
      "text/plain": [
       "<IPython.core.display.Javascript object>"
      ]
     },
     "metadata": {},
     "output_type": "display_data"
    }
   ],
   "source": [
    "# \n",
    "import numpy as np\n",
    "import re\n",
    "import skyfield.sgp4lib as spg4\n",
    "from   skyfield.api import wgs84\n",
    "import matplotlib \n",
    "import PyQt5\n",
    "import chart_studio.plotly as py\n",
    "import plotly.graph_objects as go\n",
    "\n",
    "# User defined lib.\n",
    "import generate_debris as gd\n",
    "import CoordTransforms as ct\n",
    "import visualize_deb as vis\n",
    "import planetary_data\n",
    "\n",
    "\n",
    "matplotlib.use('Agg')\n",
    "import matplotlib.pyplot as plt\n",
    "from enum import IntEnum    \n",
    "from mpl_toolkits.mplot3d import Axes3D\n",
    "import matplotlib.pyplot as plt\n",
    "import numpy as np\n",
    "from itertools import product, combinations\n",
    "from matplotlib import cm\n",
    "from scipy import integrate\n",
    "import pandas as pd\n",
    "from numba import njit, prange\n",
    "from skyfield.api import load, EarthSatellite, wgs84\n",
    "\n",
    "%matplotlib qt5\n",
    "\n",
    "debris_category = IntEnum('Category', 'rb sc soc')"
   ]
  },
  {
   "cell_type": "code",
   "execution_count": 2,
   "metadata": {
    "ExecuteTime": {
     "end_time": "2021-04-01T15:38:49.256831Z",
     "start_time": "2021-04-01T15:38:49.251646Z"
    }
   },
   "outputs": [],
   "source": [
    "import os\n",
    "\n",
    "# Create Directory to Save Figures to\n",
    "if not os.path.exists(\"figures\"):\n",
    "    os.mkdir(\"figures\")\n",
    "\n",
    "# Create Directory to Save Interactive plots to\n",
    "if not os.path.exists(\"plots\"):\n",
    "    os.mkdir(\"plots\")\n",
    "    \n",
    "# Create Directory to Save gifs\n",
    "if not os.path.exists(\"gifs\"):\n",
    "    os.mkdir(\"gifs\")\n",
    "    \n",
    "# Retreiving API Keys from OS\n",
    "PLOTLY_API_KEY = os.environ.get('PLOTLY_API_KEY')\n",
    "PLOTYLY_USERNAME = 'rhumphreys2017'"
   ]
  },
  {
   "cell_type": "code",
   "execution_count": 3,
   "metadata": {
    "ExecuteTime": {
     "end_time": "2021-04-01T15:38:52.364364Z",
     "start_time": "2021-04-01T15:38:52.350695Z"
    }
   },
   "outputs": [],
   "source": [
    "# Loging into chart studio\n",
    "import chart_studio\n",
    "chart_studio.tools.set_credentials_file(username=PLOTYLY_USERNAME, api_key=PLOTLY_API_KEY)"
   ]
  },
  {
   "cell_type": "markdown",
   "metadata": {},
   "source": [
    "<h1>1. Data Structure</h1>\n",
    "\n",
    "<h3>1.1 Satellite Structure</h3>\n",
    "\n",
    "Creating an object to represent satellite from 3le.txt <br>\n",
    "May end up using implementation from another package\n",
    "\n",
    "<b>Data sources:<b><br>\n",
    "https://www.space-track.org    \n",
    "https://www.celestrak.com/NORAD/documentation/spacetrk.pdf\n",
    "\n",
    "<b>Information about 3le/2le:</b><br>\n",
    "https://en.wikipedia.org/wiki/Two-line_element_set#cite_note-nasahelp-12\n",
    "https://spaceflight.nasa.gov/realdata/sightings/SSapplications/Post/JavaSSOP/SSOP_Help/tle_def.html"
   ]
  },
  {
   "cell_type": "markdown",
   "metadata": {},
   "source": [
    "<h3>Data structure implementation using spg4 from skyfield library<h3>"
   ]
  },
  {
   "cell_type": "code",
   "execution_count": null,
   "metadata": {
    "ExecuteTime": {
     "end_time": "2021-03-22T02:45:04.943700Z",
     "start_time": "2021-03-22T02:44:58.669042Z"
    }
   },
   "outputs": [],
   "source": [
    "# Opening the .txt file\n",
    "with open(\"3le.txt\") as f:\n",
    "    txt = f.read()\n",
    "    \n",
    "sat_lines = re.findall('(.*?)\\n(.*?)\\n(.*?)\\n', txt)\n",
    "\n",
    "# Preview of `sat_lines`, each element should be the three lines representing a satellite\n",
    "print(sat_lines[0])\n",
    "\n",
    "# Convert each group of 3 lines into a satelite object\n",
    "def line_element_to_satellite(lines):\n",
    "    title = lines[0]\n",
    "    line1 = lines[1]\n",
    "    line2 = lines[2]\n",
    "    return spg4.EarthSatellite(line1, line2, name=title)\n",
    "\n",
    "satellites = [line_element_to_satellite(lines) for lines in sat_lines]\n",
    "\n",
    "# Retrieving orbital structure that fits criterion\n",
    "i_desired = np.deg2rad(20)\n",
    "z_desired = 700*1e3 #[m]\n",
    "\n",
    "i_tol = np.deg2rad(5)\n",
    "z_tol = 25*1e3\n",
    "\n",
    "data = np.array(satellites)\n",
    "ts = load.timescale(builtin=True)\n",
    "t  = ts.now()\n",
    "r_E = 6.3781e6 #[m]\n",
    "\n",
    "\n",
    "inclo = np.array([sat.model.inclo for sat in data ])\n",
    "altitude = np.array([wgs84.subpoint(sat.at(t)).elevation.m for sat in data])\n",
    "\n",
    "I_inclo = (inclo < i_desired + i_tol) & (inclo > i_desired - i_tol)\n",
    "I_alt   = (altitude < z_desired + z_tol) & (altitude > z_desired - z_tol)\n",
    "\n",
    "# Getting the first satellite that meets the above criterion\n",
    "satellite = data[I_inclo & I_alt][0] "
   ]
  },
  {
   "cell_type": "markdown",
   "metadata": {},
   "source": [
    "<h1>2. Breakup Models</h1>\n",
    "\n",
    "<h3>2.1 NASA breakup model</h3>\n",
    "\n",
    "<b>Implementation:</b> (Found on page 207)<br>\n",
    "https://www.researchgate.net/publication/295490674_Space_debris_cloud_evolution_in_Low_Earth_Orbit\n",
    "\n",
    "<b>Alternate implementation:</b><br>\n",
    "https://gitlab.obspm.fr/apetit/nasa-breakup-model/tree/master\n",
    "\n",
    "<b>Information:</b><br>\n",
    "https://digitalcommons.calpoly.edu/cgi/viewcontent.cgi?referer=https://en.wikipedia.org/&httpsredir=1&article=1094&context=theses\n",
    "\n",
    "\n",
    "<b>Now implemented in file generate_debris.py</b><br>"
   ]
  },
  {
   "cell_type": "markdown",
   "metadata": {},
   "source": [
    "<h3>2.2 NASA breakup model validation</h3>"
   ]
  },
  {
   "cell_type": "markdown",
   "metadata": {},
   "source": [
    "<h4>2.2.1 Explosion Case</h4>"
   ]
  },
  {
   "cell_type": "code",
   "execution_count": null,
   "metadata": {
    "ExecuteTime": {
     "end_time": "2021-03-22T22:32:41.188354Z",
     "start_time": "2021-03-22T22:32:39.093383Z"
    },
    "scrolled": true
   },
   "outputs": [],
   "source": [
    "m_target = 1000 # [kg]\n",
    "\n",
    "# Do not need to specify projectile mass, and collision velocity for an explosion\n",
    "# L_c [m], areas [m^2], masses [kg]\n",
    "L_c, areas, masses, AM = gd.fragmentation(m_target, 0, 0, False, debris_category.rb, True)\n",
    "\n",
    "# LC DATA\n",
    "bins = [1e-3, 1e-2, 1e-1, 1, np.inf] # L_c bins in meters\n",
    "h,b = np.histogram(L_c, bins=bins)\n",
    "\n",
    "ch = [ { f'>{bins[i]}m':np.sum(h[i:]) for i in range(len(h))}]\n",
    "\n",
    "df = pd.DataFrame(ch)\n",
    "\n",
    "# MASS DATA\n",
    "bins = [1, np.inf]\n",
    "h,b = np.histogram(masses*1e3, bins=bins) # grams\n",
    "ch = [ { f'>{bins[i]}g':np.sum(h[i:]) for i in range(len(h))}]\n",
    "\n",
    "df2 = pd.DataFrame(ch)\n",
    "\n",
    "# AREA DATA\n",
    "bins = [1, np.inf]\n",
    "h,b = np.histogram(areas*1e4, bins=bins) # cm^2\n",
    "ch = [ { f'>{bins[i]}cm^2':np.sum(h[i:]) for i in range(len(h))}]\n",
    "\n",
    "df3 = pd.DataFrame(ch)\n",
    "\n",
    "# # VELOCITY DATA (A bit janky currently, always need to specify v_c event for explosions)\n",
    "deltaV = 10**np.array(gd.distribution_deltaV(AM, 5, True)) # Returns as [km·s^-1]\n",
    "bins = [1, np.inf]\n",
    "h,b = np.histogram(deltaV, bins=bins)\n",
    "ch = [ { f'>{bins[i]}km/s':np.sum(h[i:]) for i in range(len(h))}]\n",
    "df4 = pd.DataFrame(ch)\n",
    "\n",
    "results = pd.concat([df, df2, df3, df4], axis=1)\n",
    "results"
   ]
  },
  {
   "cell_type": "markdown",
   "metadata": {
    "ExecuteTime": {
     "end_time": "2021-03-22T03:26:37.512883Z",
     "start_time": "2021-03-22T03:26:37.504604Z"
    }
   },
   "source": [
    "<h4>2.2.2 Collision Case</h4>"
   ]
  },
  {
   "cell_type": "code",
   "execution_count": null,
   "metadata": {
    "ExecuteTime": {
     "end_time": "2021-03-24T20:58:51.326365Z",
     "start_time": "2021-03-24T20:58:42.794563Z"
    }
   },
   "outputs": [],
   "source": [
    "m_target = 1000 # [kg]\n",
    "\n",
    "from importlib import reload  \n",
    "\n",
    "reload(gd)\n",
    "\n",
    "# Do not need to specify projectile mass, and collision velocity for an explosion\n",
    "# L_c [m], areas [m^2], masses [kg]\n",
    "L_c, areas, masses, AM = gd.fragmentation(m_target, 10, 10, True, debris_category.rb, False)\n",
    "\n",
    "# LC DATA\n",
    "bins = [1e-3, 1e-2, 1e-1, 1, np.inf] # L_c bins in meters\n",
    "h,b = np.histogram(L_c, bins=bins)\n",
    "\n",
    "ch = [ { f'>{bins[i]}m':np.sum(h[i:]) for i in range(len(h))}]\n",
    "\n",
    "df = pd.DataFrame(ch)\n",
    "\n",
    "# MASS DATA\n",
    "bins = [1, np.inf]\n",
    "h,b = np.histogram(masses*1e3, bins=bins) # grams\n",
    "ch = [ { f'>{bins[i]}g':np.sum(h[i:]) for i in range(len(h))}]\n",
    "\n",
    "df2 = pd.DataFrame(ch)\n",
    "\n",
    "# AREA DATA\n",
    "bins = [1, np.inf]\n",
    "h,b = np.histogram(areas*1e4, bins=bins) # cm^2\n",
    "ch = [ { f'>{bins[i]}cm^2':np.sum(h[i:]) for i in range(len(h))}]\n",
    "\n",
    "df3 = pd.DataFrame(ch)\n",
    "\n",
    "# # VELOCITY DATA (A bit janky currently, always need to specify v_c event for explosions)\n",
    "\n",
    "deltaV = 10**np.array(gd.distribution_deltaV(AM, 10, False)) # Returns as [km·s^-1]\n",
    "deltaV *= 1e3\n",
    "bins = [100, np.inf]\n",
    "h,b = np.histogram(deltaV, bins=bins)\n",
    "ch = [ { f'>{bins[i]}m/s':np.sum(h[i:]) for i in range(len(h))}]\n",
    "df4 = pd.DataFrame(ch)\n",
    "\n",
    "results = pd.concat([df, df2, df3, df4], axis=1)\n",
    "print(np.max(deltaV))\n",
    "results\n",
    "\n",
    "# New imp 2416785\n",
    "# Old imp 2416754"
   ]
  },
  {
   "cell_type": "markdown",
   "metadata": {},
   "source": [
    "<h3>2.3 NASA breakup model validation plots</h3>"
   ]
  },
  {
   "cell_type": "code",
   "execution_count": null,
   "metadata": {
    "ExecuteTime": {
     "end_time": "2021-03-22T22:31:32.552921Z",
     "start_time": "2021-03-22T22:31:02.724627Z"
    },
    "scrolled": true
   },
   "outputs": [],
   "source": [
    "# Validation Data\n",
    "reload(gd)\n",
    "\n",
    "L_c, areas, masses, AM = gd.fragmentation(1000, 10, 10, True, debris_category.rb, False)\n",
    "N_fragments_total = L_c.shape[0]\n",
    "lambda_c = np.log10(L_c)\n",
    "\n",
    "# Logarithmic Spaced Bins\n",
    "def create_log_bins(values, nbins=100):\n",
    "    #return np.geomspace(values.min(), values.max(), nbins)\n",
    "    bins = np.geomspace(values.min(), values.max(), nbins)\n",
    "    a = bins[1]/bins[0]\n",
    "    bins = np.concatenate([[bins[0]/a], bins,[bins[-1]*a]])\n",
    "    return bins\n",
    "\n",
    "\n",
    "# Common Layout\n",
    "layout = dict(\n",
    "    autosize=False,\n",
    "    width=500,\n",
    "    height=500,\n",
    "    template = 'plotly_white',\n",
    "    yaxis = dict(\n",
    "        range=[0,8e5],\n",
    "        showexponent = 'all',\n",
    "        exponentformat = 'e'\n",
    "    ),\n",
    "    legend=dict(\n",
    "        y=0.5,\n",
    "        traceorder='reversed',\n",
    "        font=dict(\n",
    "            size=16\n",
    "        )\n",
    "    )\n",
    ")\n",
    "\n",
    "###### Validating L_c ######\n",
    "\n",
    "# Creating Histogram\n",
    "h, b = np.histogram(L_c, bins=create_log_bins(L_c)) # Test data\n",
    "# Make figure\n",
    "fig = go.Figure(data=[go.Scatter(x=b, y=h, mode='lines', hoverinfo='all',\n",
    "                                 line=dict(shape='hvh'))],\n",
    "                layout=layout)\n",
    "\n",
    "# Update figure\n",
    "fig.update_xaxes(type=\"log\")\n",
    "fig.update_layout(\n",
    "    title = 'Characteristic Length Distribution',\n",
    "    xaxis_title=r'$\\log_{10}(L_{c}\\:[m])$',\n",
    "    yaxis_title=r'$N_f$'\n",
    ")\n",
    "\n",
    "# Plot\n",
    "fig.write_image(\"figures/N_f_vs_L_c.png\", width=500, height=500, scale=2)\n",
    "py.iplot(fig, filename=\"Characteristic Length Distribution\")\n",
    "\n",
    "# # # ###### Validating Areas ######\n",
    "\n",
    "# Creating Histogram\n",
    "h, b = np.histogram(areas, bins=create_log_bins(areas))\n",
    "\n",
    "# Make figure\n",
    "fig2 = go.Figure(data=[go.Scatter(x=b, y=h, mode='lines', hoverinfo='all',\n",
    "                                 line=dict(shape='hvh'))],\n",
    "                layout=layout)\n",
    "\n",
    "# Update figure\n",
    "fig2.update_xaxes(type=\"log\")\n",
    "fig2.update_layout(\n",
    "    title = 'Area distribution',\n",
    "    xaxis_title=r'$\\log_{10}(A\\:[m^2])$',\n",
    "    yaxis_title=r'$N_f$',\n",
    ")\n",
    "\n",
    "# Plot\n",
    "fig2.write_image(\"figures/N_f_vs_A.png\", width=500, height=500, scale=2)\n",
    "py.iplot(fig2, filename=\"Area distribution\")\n",
    "\n",
    "# ###### Validating MASS ######\n",
    "\n",
    "# # Creating Histogram\n",
    "h, b = np.histogram(masses, bins=create_log_bins(masses))\n",
    "\n",
    "# Make figure\n",
    "fig3 = go.Figure(data=[go.Scatter(x=b, y=h, mode='lines', hoverinfo='all',\n",
    "                                 line=dict(shape='hvh'))],\n",
    "                layout=layout)\n",
    "\n",
    "# Update figure\n",
    "fig3.update_xaxes(type=\"log\")\n",
    "fig3.update_layout(\n",
    "    title = 'Mass Distribution',\n",
    "    xaxis_title=r'$\\log_{10}(M\\:[kg])$',\n",
    "    yaxis_title=r'$N_f$'\n",
    ")\n",
    "\n",
    "# Plot\n",
    "fig3.write_image(\"figures/N_f_vs_M.png\", width=500, height=500, scale=2)\n",
    "py.iplot(fig3, filename=\"Mass Distribution\")\n",
    "\n",
    "### Validating Velocity\n",
    "deltaV = np.array(gd.distribution_deltaV(AM, 10, False))\n",
    "# Creating Histogram\n",
    "h, b = np.histogram(deltaV, bins=create_log_bins(deltaV))\n",
    "\n",
    "# Make figure\n",
    "fig4 = go.Figure(data=[go.Scatter(x=b, y=h, mode='lines', hoverinfo='all',\n",
    "                                 line=dict(shape='hvh'))],\n",
    "                layout=layout)\n",
    "\n",
    "# Update figure\n",
    "fig4.update_xaxes(type=\"log\")\n",
    "fig4.update_layout(\n",
    "    title = 'Velocity distribution',\n",
    "    xaxis_title=r'$\\log_{10}(V\\:[ms^-1])$',\n",
    "    yaxis_title=r'$N_f$',\n",
    ")\n",
    "\n",
    "# Plot\n",
    "fig4.write_image(\"figures/N_f_vs_V.png\", width=500, height=500, scale=2)\n",
    "py.iplot(fig4, filename=\"Velocity distribution\")"
   ]
  },
  {
   "cell_type": "markdown",
   "metadata": {},
   "source": [
    "<h1>3. Numerical Propagation</h1>"
   ]
  },
  {
   "cell_type": "markdown",
   "metadata": {},
   "source": [
    "<h3>3.2 Calculating Orbital Debris Properties</h3>"
   ]
  },
  {
   "cell_type": "code",
   "execution_count": 4,
   "metadata": {
    "ExecuteTime": {
     "end_time": "2021-04-01T15:39:01.054503Z",
     "start_time": "2021-04-01T15:39:01.032186Z"
    },
    "scrolled": false
   },
   "outputs": [],
   "source": [
    "from skyfield.api import load, EarthSatellite\n",
    "\n",
    "ts = load.timescale(builtin=True)\n",
    "\n",
    "t_fragmentation = ts.now()\n",
    "# geocentric      = satellite.at(t_fragmentation)\n",
    "# init_position   = geocentric.position.m\n",
    "\n",
    "# m_target         = 250   # [kg] (Approx. mass of starlink sat)\n",
    "# m_projectile     = 200     # [kg]\n",
    "# v_impact         = 2   # [km·s^-1] (Measured relative to the target) (Needs to be in km·s^-1)\n",
    "# is_catastrophic  = False\n",
    "# is_explosion     = False\n",
    "\n",
    "# L_c, areas, masses, AM = gd.fragmentation(m_target, m_projectile, v_impact, is_catastrophic, debris_category.sc, is_explosion)\n",
    "# deltaV = np.array(gd.distribution_deltaV(AM, v_impact, False)) # Returns as [km·s^-1]\n",
    "# deltaV = deltaV * 1e3    #[m·s^-1]"
   ]
  },
  {
   "cell_type": "markdown",
   "metadata": {},
   "source": [
    "<h3>3.3 Converting Cartesian to Keplerian</h3>"
   ]
  },
  {
   "cell_type": "code",
   "execution_count": 5,
   "metadata": {
    "ExecuteTime": {
     "end_time": "2021-04-01T15:39:04.356198Z",
     "start_time": "2021-04-01T15:39:04.041419Z"
    }
   },
   "outputs": [
    {
     "ename": "NameError",
     "evalue": "name 'geocentric' is not defined",
     "output_type": "error",
     "traceback": [
      "\u001b[0;31m---------------------------------------------------------------------------\u001b[0m",
      "\u001b[0;31mNameError\u001b[0m                                 Traceback (most recent call last)",
      "\u001b[0;32m<ipython-input-5-a6943d50f88d>\u001b[0m in \u001b[0;36m<module>\u001b[0;34m\u001b[0m\n\u001b[1;32m      1\u001b[0m \u001b[0;32mfrom\u001b[0m \u001b[0mnumpy\u001b[0m\u001b[0;34m.\u001b[0m\u001b[0mlinalg\u001b[0m \u001b[0;32mimport\u001b[0m \u001b[0mnorm\u001b[0m\u001b[0;34m\u001b[0m\u001b[0;34m\u001b[0m\u001b[0m\n\u001b[0;32m----> 2\u001b[0;31m \u001b[0minit_position\u001b[0m \u001b[0;34m=\u001b[0m \u001b[0mgeocentric\u001b[0m\u001b[0;34m.\u001b[0m\u001b[0mposition\u001b[0m\u001b[0;34m.\u001b[0m\u001b[0mm\u001b[0m\u001b[0;34m\u001b[0m\u001b[0;34m\u001b[0m\u001b[0m\n\u001b[0m\u001b[1;32m      3\u001b[0m \u001b[0;34m\u001b[0m\u001b[0m\n\u001b[1;32m      4\u001b[0m \u001b[0mreload\u001b[0m\u001b[0;34m(\u001b[0m\u001b[0mplanetary_data\u001b[0m\u001b[0;34m)\u001b[0m\u001b[0;34m\u001b[0m\u001b[0;34m\u001b[0m\u001b[0m\n\u001b[1;32m      5\u001b[0m \u001b[0mreload\u001b[0m\u001b[0;34m(\u001b[0m\u001b[0mct\u001b[0m\u001b[0;34m)\u001b[0m\u001b[0;34m\u001b[0m\u001b[0;34m\u001b[0m\u001b[0m\n",
      "\u001b[0;31mNameError\u001b[0m: name 'geocentric' is not defined"
     ]
    }
   ],
   "source": [
    "from numpy.linalg import norm\n",
    "init_position = geocentric.position.m\n",
    "\n",
    "reload(planetary_data)\n",
    "reload(ct)\n",
    "\n",
    "deb_positions       = np.empty((len(AM), 3))\n",
    "deb_positions[:, :] = init_position[None,:]\n",
    "deb_velocities      = gd.velocity_vectors(len(AM), geocentric.velocity.m_per_s, deltaV)\n",
    "\n",
    "keplerian_state     = ct.rv2coe(deb_positions, deb_velocities, planetary_data.earth['mu'])\n",
    "\n",
    "# Removing fragments that would renter earth\n",
    "periapsis           = keplerian_state[0, :] * (1 - keplerian_state[1, :])\n",
    "I                   = np.argwhere(periapsis > planetary_data.earth['radius'])\n",
    "keplerian_state     = np.squeeze(keplerian_state[:, I])\n",
    "areas  = areas[I].flatten()  # When doing the indexing , a 1d dim being added which is unneccesary\n",
    "masses              = masses[I].flatten() # When doing the indexing , a 1d dim being added which is unneccesary"
   ]
  },
  {
   "cell_type": "markdown",
   "metadata": {},
   "source": [
    "<h3>3.4 Debris Cloud formation</h3>"
   ]
  },
  {
   "cell_type": "code",
   "execution_count": null,
   "metadata": {
    "ExecuteTime": {
     "end_time": "2021-03-15T21:48:07.888836Z",
     "start_time": "2021-03-15T21:48:07.852162Z"
    },
    "scrolled": true
   },
   "outputs": [],
   "source": [
    "## Shrink number of debris being used\n",
    "indexes = np.random.default_rng().choice(keplerian_state.shape[1], size=1000, replace=False)\n",
    "\n",
    "ks = keplerian_state[:, indexes]\n",
    "masses = masses[indexes]\n",
    "areas = areas[indexes]\n",
    "deb_positions = deb_positions[indexes, :]\n",
    "deb_velocities = deb_velocities[indexes, :]"
   ]
  },
  {
   "cell_type": "code",
   "execution_count": null,
   "metadata": {
    "ExecuteTime": {
     "end_time": "2021-03-15T21:48:10.796825Z",
     "start_time": "2021-03-15T21:48:10.781503Z"
    }
   },
   "outputs": [],
   "source": [
    "np.savez(\"debris.npz\",\n",
    "         keplerian_states=ks,\n",
    "         masses=masses,\n",
    "         areas=areas,\n",
    "         deb_positions=deb_positions,\n",
    "         deb_velocities=deb_velocities)"
   ]
  },
  {
   "cell_type": "code",
   "execution_count": 6,
   "metadata": {
    "ExecuteTime": {
     "end_time": "2021-04-01T15:39:07.826783Z",
     "start_time": "2021-04-01T15:39:07.811154Z"
    }
   },
   "outputs": [],
   "source": [
    "container = np.load('debris.npz')\n",
    "ks = container['keplerian_states']\n",
    "masses = container['masses']\n",
    "areas = container['areas']\n",
    "deb_positions = container['deb_positions']\n",
    "deb_velocities = container['deb_velocities']"
   ]
  },
  {
   "cell_type": "markdown",
   "metadata": {},
   "source": [
    "<h4>3.4.1 Ellisoid formation</h4>"
   ]
  },
  {
   "cell_type": "code",
   "execution_count": 7,
   "metadata": {
    "ExecuteTime": {
     "end_time": "2021-04-01T15:40:35.798270Z",
     "start_time": "2021-04-01T15:39:10.586319Z"
    }
   },
   "outputs": [],
   "source": [
    "import Perturbations as OP\n",
    "import planetary_data as pd\n",
    "from Perturbations import null_perts\n",
    "\n",
    "# Cleanup states to remove any fragments that would deorbit, given no perturbations\n",
    "periapsis     = ks[0, :] * (1 - ks[1, :])\n",
    "I             = np.argwhere(periapsis > pd.earth['radius'])\n",
    "ks_pruned     = np.squeeze(ks[:, I])\n",
    "T             = ks_pruned[8, :]\n",
    "areas_pruned  = areas[I].flatten()  # When doing the indexing , a 1d dim being added which is unneccesary\n",
    "masses_pruned = masses[I].flatten() # When doing the indexing , a 1d dim being added which is unneccesary\n",
    "\n",
    "# Propagate orbit for a period of time\n",
    "perts = null_perts()\n",
    "perts['aero'] = True\n",
    "perts['J2']   = True\n",
    "op = OP.OrbitPropagator(ks_pruned, areas_pruned, masses_pruned, [0, 40*np.ceil(max(T))], 60*5, perts=perts)\n",
    "op.propagate_orbit()\n",
    "\n",
    "# Get the cartesian state representation\n",
    "cartesian_states = op.cartesian_representation()"
   ]
  },
  {
   "cell_type": "markdown",
   "metadata": {},
   "source": [
    "<h4>3.4.2 Particle Debris flux</h4>\n",
    "\n",
    "Using a particle flux to determine when the fragments of the debris have finished the formation of the ring. Indicating the end of the first phase of the debris cloud formation. This is accomplished by creating an xz plane and detecting when particles have switched from one side to the other. This approach will cause a peak as fragments pass through that becomes uniform as the debris becomes uniformly spread out."
   ]
  },
  {
   "cell_type": "code",
   "execution_count": 8,
   "metadata": {
    "ExecuteTime": {
     "end_time": "2021-04-01T15:41:06.066135Z",
     "start_time": "2021-04-01T15:41:05.694548Z"
    }
   },
   "outputs": [],
   "source": [
    "import time\n",
    "import matplotlib.dates as mdates\n",
    "from dateutil import tz\n",
    "\n",
    "def fragmentation_flux(X):\n",
    "    return np.sum((X[:-1, :, 1] < 0) & (X[1:, :, 1] > 0), axis=1)\n",
    "    \n",
    "position = cartesian_states[:, 0, :, :]\n",
    "flux = fragmentation_flux(position)"
   ]
  },
  {
   "cell_type": "markdown",
   "metadata": {},
   "source": [
    "<h4>3.4.3 Convergence of the flux</h4>\n",
    "\n",
    "The next step is determining when the fragments have ended the torroid formation phase. This occurs when the fragments are approximately uniformally spread out. We can check to see when the flux meets a convergence criterion to determine when this happens."
   ]
  },
  {
   "cell_type": "code",
   "execution_count": 9,
   "metadata": {
    "ExecuteTime": {
     "end_time": "2021-04-01T15:41:08.769445Z",
     "start_time": "2021-04-01T15:41:08.433666Z"
    }
   },
   "outputs": [],
   "source": [
    "import datetime as datetime\n",
    "\n",
    "w = 100 # Window of points to look at\n",
    "tol = 1.5\n",
    "convergence_ratio = np.array([np.var(flux[i:i+w])/np.mean(flux[i:i+w]) for i in range(len(flux))])    \n",
    "intersection_index = np.argwhere(convergence_ratio <= tol).flatten()[2] # Grabbing the second point that meets the criteria\n",
    "\n",
    "# datetimes\n",
    "t_flux = t_fragmentation.utc_datetime() + np.array(range(len(flux))) * datetime.timedelta(minutes = 5)\n",
    "\n",
    "# Removing last window from `t_flux`, `flux`, and `convergence_ratio` bc. not well defined for last values\n",
    "t_flux = t_flux[:-w]\n",
    "flux = flux[:-w]\n",
    "convergence_ratio = convergence_ratio[:-w]"
   ]
  },
  {
   "cell_type": "code",
   "execution_count": null,
   "metadata": {
    "ExecuteTime": {
     "end_time": "2021-03-17T01:08:07.407297Z",
     "start_time": "2021-03-17T01:07:50.191710Z"
    },
    "scrolled": true
   },
   "outputs": [],
   "source": [
    "import datetime\n",
    "import chart_studio.plotly as py\n",
    "\n",
    "# SIgn in \n",
    "py.sign_in(username = PLOTYLY_USERNAME, api_key = PLOTLY_API_KEY)\n",
    "\n",
    "# Creating Flux v. Time plot\n",
    "layout = go.Layout(\n",
    "    title        = dict(text='$\\\\text{Flux}\\:(\\\\Phi)\\:\\\\text{vs. Time }(t)$',\n",
    "                        x=0.5),\n",
    "    xaxis_title  = '$t\\:[days]$',\n",
    "    yaxis_title  = '$\\\\text{ Number of fragments passing XZ plane, }\\Phi\\:$',\n",
    "    template     = 'plotly_white'\n",
    ")\n",
    "\n",
    "\n",
    "data = [\n",
    "    go.Scatter(x=t_flux, y=flux,\n",
    "               mode='lines',\n",
    "               name='Flux'),\n",
    "    go.Scatter(x=[t_flux[intersection_index], t_flux[intersection_index]], y=[0, np.max(flux)],\n",
    "               mode='lines',\n",
    "               line=dict(dash = 'dash'),\n",
    "               name='Convergence')\n",
    "]\n",
    "\n",
    "fig1 = go.Figure(data=data, layout=layout)\n",
    "\n",
    "# Stopping data to have half before intersection index and half after\n",
    "index_stop = intersection_index * 2\n",
    "if index_stop > len(flux) - 1 : index_stop = len(flux) - 1\n",
    "fig1.update_layout(xaxis_range=[t_flux[0],t_flux[index_stop]])\n",
    "\n",
    "# Saving plot as an image and uploading it to plotly\n",
    "fig1.write_image(\"figures/Flux_v_Time.png\", width=500, height=500, scale=2)\n",
    "py.iplot(fig1, filename=\"Flux v. Time\")"
   ]
  },
  {
   "cell_type": "code",
   "execution_count": null,
   "metadata": {
    "ExecuteTime": {
     "end_time": "2021-03-17T00:50:30.470028Z",
     "start_time": "2021-03-17T00:50:23.443017Z"
    }
   },
   "outputs": [],
   "source": [
    "#Creating Convergence Ratio v. Time plot\n",
    "layout = go.Layout(\n",
    "    title        = dict(text='Convergence ratio vs. Time (t)',\n",
    "                        x=0.5),\n",
    "    xaxis_title  = '$t\\:[days]$',\n",
    "    yaxis_title  = 'Convergence ratio []',\n",
    "    template     = 'plotly_white',\n",
    "    legend       = go.layout.Legend(yanchor=\"top\",\n",
    "                             y=0.99,\n",
    "                             xanchor=\"right\",\n",
    "                             x=0.99)\n",
    ")\n",
    "data = [\n",
    "    go.Scatter(x=t_flux, y=convergence_ratio,\n",
    "               mode='lines',\n",
    "               name='Convergence ratio'),\n",
    "    go.Scatter(x=[t_flux[intersection_index], t_flux[intersection_index]], y=[0, np.max(flux)],\n",
    "               mode='lines',\n",
    "               line=dict(dash = 'dash'),\n",
    "               name='Convergence time'),\n",
    "    go.Scatter(x=[t_flux[0], t_flux[-1]], y=[tol, tol],\n",
    "               mode='lines',\n",
    "               line=dict(dash = 'dash'),\n",
    "               name='Tolerance'),\n",
    "]\n",
    "fig2 = go.Figure(data=data, layout=layout)\n",
    "fig2.update_yaxes(type=\"log\")\n",
    "fig2.write_image(\"figures/Convergence_Ratio_v_Time.png\", width=500, height=500, scale=2)\n",
    "\n",
    "py.iplot(fig2, filename=\"Convergence Ratio v. Time\")"
   ]
  },
  {
   "cell_type": "markdown",
   "metadata": {},
   "source": [
    "<h4>3.4.4 End of band formation</h4>\n",
    "\n",
    "Now that the band has formed, we can shift away from propagating the exact position of each fragments and inplace propgate their changes in eccentricity and semi major axis due to drag. To do this first we must get the final states of the debris after the band has formed."
   ]
  },
  {
   "cell_type": "code",
   "execution_count": 10,
   "metadata": {
    "ExecuteTime": {
     "end_time": "2021-04-01T15:41:14.162480Z",
     "start_time": "2021-04-01T15:41:14.158388Z"
    }
   },
   "outputs": [],
   "source": [
    "cs_toroid = cartesian_states[:intersection_index, :, :, :]\n",
    "ks_toroid = op.states[0:intersection_index, :, :]\n",
    "op.states = ks_toroid"
   ]
  },
  {
   "cell_type": "code",
   "execution_count": 22,
   "metadata": {
    "ExecuteTime": {
     "end_time": "2021-04-01T17:13:47.222343Z",
     "start_time": "2021-04-01T17:13:43.637333Z"
    }
   },
   "outputs": [],
   "source": [
    "import plotly.express as px  # (version 4.7.0)\n",
    "import plotly.io as pio\n",
    "import pandas\n",
    "\n",
    "\n",
    "spherical_earth_map = np.load('map_sphere.npy') \n",
    "\n",
    "pos_toroid = cs_toroid[:, 0, :, :]/1e3\n",
    "N_timesteps = pos_toroid.shape[0]\n",
    "N_fragments = pos_toroid.shape[1]\n",
    "r_E = op.cb['radius'] / 1e3\n",
    "xm, ym, zm = spherical_earth_map.T * r_E\n",
    "\n",
    "# Converting data to pandas dataframe\n",
    "df = pandas.DataFrame()\n",
    "# *** Update this if chnage timestep in initial orbit propagation ***\n",
    "dt = 60 * 5 #[s]\n",
    "# Want to show the evolution in 30 min\n",
    "timesteps = np.arange(0,N_timesteps, 6)\n",
    "\n",
    "for t in timesteps:   \n",
    "    step = t*np.ones_like(N_timesteps)\n",
    "    time = dt * step / 60 #[min]\n",
    "    d = {'X': pos_toroid[t, :, 0],\n",
    "         'Y': pos_toroid[t, :, 1],\n",
    "         'Z':pos_toroid[t, :, 2],\n",
    "         'Min.': time,\n",
    "         'a': ks_toroid[t, 0, :]/1e3,\n",
    "         'e': ks_toroid[t, 1, :],\n",
    "         'i': ks_toroid[t, 2, :],\n",
    "        }\n",
    "    df = pandas.concat([df, pandas.DataFrame(data=d)])\n",
    "\n",
    "# Creating visual\n",
    "def spheres(size, clr, dist=0): \n",
    "\n",
    "    # Set up 100 points. First, do angles\n",
    "    theta = np.linspace(0,2*np.pi,100)\n",
    "    phi = np.linspace(0,np.pi,100)\n",
    "\n",
    "    # Set up coordinates for points on the sphere\n",
    "    x0 = dist + size * np.outer(np.cos(theta),np.sin(phi))\n",
    "    y0 = size * np.outer(np.sin(theta),np.sin(phi))\n",
    "    z0 = size * np.outer(np.ones(100),np.cos(phi))\n",
    "\n",
    "    # Set up trace\n",
    "    trace= go.Surface(x=x0, y=y0, z=z0, colorscale=[[0,clr], [1,clr]])\n",
    "    trace.update(showscale=False)\n",
    "\n",
    "    return trace\n",
    "\n",
    "fig = px.scatter_3d(\n",
    "    data_frame=df,\n",
    "    x='X',\n",
    "    y='Y',\n",
    "    z='Z',\n",
    "    title='Evolution of debris cloud to toroid formation',\n",
    "    hover_data={'Min.': False, 'X': False, 'Y':False, 'Z':False, 'a':':.1f', 'e':':.4f','i':':.1f' },\n",
    "    height=800,                 # height of graph in pixels\n",
    "    width =800,\n",
    "    animation_frame='Min.',   # assign marks to animation frames\n",
    "    range_x=[-r_E - 1000,r_E + 1000],\n",
    "    range_z=[-r_E - 1000,r_E + 1000],\n",
    "    range_y=[-r_E - 1000,r_E + 1000],\n",
    "\n",
    ")\n",
    "fig.update_traces(marker={'size': 3})\n",
    "# Add Earth\n",
    "earth=spheres(r_E, '#F0FFFF', 0) # Earth\n",
    "#fig.add_trace(go.Scatter3d(x=xm, y=ym, z=zm, mode='lines', line=dict(color=zm, colorscale='Viridis')))\n",
    "fig['layout']['scene']['aspectmode'] = 'cube'\n",
    "fig.update_scenes(xaxis_visible=False, yaxis_visible=False,zaxis_visible=False )\n",
    "fig.add_trace(earth)\n",
    "fig.update_layout(transition = {'duration': 2000})\n",
    "fig.write_html(\"plots/ring.html\")"
   ]
  },
  {
   "cell_type": "code",
   "execution_count": 23,
   "metadata": {
    "ExecuteTime": {
     "end_time": "2021-04-01T17:17:23.361982Z",
     "start_time": "2021-04-01T17:14:21.015339Z"
    }
   },
   "outputs": [],
   "source": [
    "import glob\n",
    "from PIL import Image\n",
    "import os\n",
    "\n",
    "\n",
    "# filepaths\n",
    "fp_in = \"gifs/frame_*.png\"\n",
    "fp_out = \"gifs/ring.gif\"\n",
    "\n",
    "#Create temp frames\n",
    "for i in range(len(fig.frames)):\n",
    "    temp_fig = go.Figure(fig.frames[i].data, fig.layout)\n",
    "    temp_fig['layout']['title'] = ''\n",
    "    temp_fig['layout']['sliders'] = None\n",
    "    temp_fig['layout']['updatemenus'] = None\n",
    "    temp_fig.update_traces(marker=dict(color='#6372f4', size=2))\n",
    "    temp_fig.update_layout(paper_bgcolor='rgba(0,0,0,0)',\n",
    "            plot_bgcolor='rgba(0,0,0,0)')\n",
    "    temp_fig.add_trace(earth)\n",
    "    temp_fig.write_image(\"gifs/frame_{}.png\".format(i), width=1000, height=1000, scale=1)\n",
    "    \n",
    "import ffmpeg\n",
    "(\n",
    "    ffmpeg\n",
    "    .input('gifs/*.png', pattern_type='glob', framerate=3)\n",
    "    .output('gifs/ring.mp4', pix_fmt='yuv420p')\n",
    "    .run()\n",
    ")\n",
    "\n",
    "\n",
    "# # Delete temp frames\n",
    "for i in range(len(fig.frames)):\n",
    "    os.remove(\"gifs/frame_{}.png\".format(i))"
   ]
  },
  {
   "cell_type": "markdown",
   "metadata": {},
   "source": [
    "<h3> 4.0.0 Implementing Perturbations </h3>"
   ]
  },
  {
   "cell_type": "markdown",
   "metadata": {},
   "source": [
    "<h4> 4.1.0 atmospheric model </h4>"
   ]
  },
  {
   "cell_type": "code",
   "execution_count": null,
   "metadata": {
    "ExecuteTime": {
     "end_time": "2021-03-03T05:28:15.513633Z",
     "start_time": "2021-03-03T05:28:15.507630Z"
    }
   },
   "outputs": [],
   "source": [
    "# import Aerodynamics as aero\n",
    "\n",
    "# upper_bound = 900 * 1e3                         #[m]\n",
    "# altitudes   = np.arange(0, upper_bound, 25)      #[m]\n",
    "# rho         = aero.atmosphere_density(altitudes) #[kg·m^-3]\n",
    "\n",
    "# I_standard = np.argwhere(altitudes/1e3 == 25).flatten()[0]\n",
    "# I_cira    = np.argwhere(altitudes/1e3 == 500).flatten()[0]\n",
    "\n",
    "# # Plotting the Exponential Atmospheric Model\n",
    "\n",
    "# layout = go.Layout(\n",
    "#     title        = go.layout.Title(text='Altitude (z) vs. Atmospheric Density (ρ)',\n",
    "#                                    x=0.5),\n",
    "#     xaxis_title  = 'z [km]',\n",
    "#     yaxis_title  = '$\\log_{10}(\\\\rho\\:[kg·m^{-3}])$',\n",
    "#     template     = 'plotly_white',\n",
    "#     legend       = go.layout.Legend(yanchor=\"top\",\n",
    "#                              y=0.99,\n",
    "#                              xanchor=\"right\",\n",
    "#                              x=0.99)\n",
    "# )\n",
    "\n",
    "# data = [\n",
    "#     go.Scatter(x=altitudes[:I_standard] / 1e3, y=rho[:I_standard],\n",
    "#                     mode='lines',\n",
    "#                     name='U.S Standard Atmosphere'),\n",
    "#     go.Scatter(x=altitudes[I_standard:I_cira] / 1e3, y=rho[I_standard:I_cira],\n",
    "#                     mode='lines',\n",
    "#                     name='CIRA-72'),\n",
    "#     go.Scatter(x=altitudes[I_cira:] / 1e3, y=rho[I_cira:],\n",
    "#                     mode='lines',\n",
    "#                     name='CIRA-72 with T_infinity = 1000K')\n",
    "# ]\n",
    "\n",
    "# fig = go.Figure(data=data, layout=layout)\n",
    "# fig.update_yaxes(type=\"log\")\n",
    "\n",
    "\n",
    "# fig.write_image(\"figures/Atmospheric_Density_v_Altitude.png\", width=500, height=500, scale=2)\n",
    "# f2 = go.FigureWidget(fig)\n",
    "# f2\n",
    "\n",
    "# f2"
   ]
  },
  {
   "cell_type": "markdown",
   "metadata": {},
   "source": [
    "<h4> 4.2.0 J2 </h4>"
   ]
  },
  {
   "cell_type": "markdown",
   "metadata": {},
   "source": [
    "<h4> 4.3.0 Application of perturbations </h4>"
   ]
  },
  {
   "cell_type": "code",
   "execution_count": 15,
   "metadata": {
    "ExecuteTime": {
     "end_time": "2021-04-01T16:00:15.021820Z",
     "start_time": "2021-04-01T16:00:08.356110Z"
    }
   },
   "outputs": [
    {
     "name": "stderr",
     "output_type": "stream",
     "text": [
      "/Users/reecehumphreys/Developer/Thesis/Thesis/Perturbations.py:94: RuntimeWarning:\n",
      "\n",
      "invalid value encountered in sqrt\n",
      "\n",
      "/Users/reecehumphreys/Developer/Thesis/Thesis/Perturbations.py:109: RuntimeWarning:\n",
      "\n",
      "invalid value encountered in sqrt\n",
      "\n"
     ]
    }
   ],
   "source": [
    "from scipy.special import iv\n",
    "from scipy import integrate\n",
    "import Aerodynamics as aero\n",
    "\n",
    "op.tspan[-1] = 3600*24*365*3\n",
    "op.dt = 3600*24\n",
    "de, da, di, dOmega, domega, dnu, dp = op.propagate_perturbations()"
   ]
  },
  {
   "cell_type": "markdown",
   "metadata": {},
   "source": [
    "## Density"
   ]
  },
  {
   "cell_type": "code",
   "execution_count": null,
   "metadata": {
    "ExecuteTime": {
     "end_time": "2021-03-22T05:03:45.966234Z",
     "start_time": "2021-03-22T05:03:45.921259Z"
    }
   },
   "outputs": [],
   "source": [
    "%matplotlib inline\n",
    "\n",
    "plt.close()\n",
    "def spatial_density(r, a, e):\n",
    "    N_f = len(a)\n",
    "    print(np.sum(e))\n",
    "    print(e**2 - ((r/a) - 1)**2)\n",
    "#     test2 = (np.sqrt(e**2 - ((r/a) - 1)**2))\n",
    "#     print(test)\n",
    "#     print(test2)\n",
    "    #s = #(1 / (r * np.pi**2 * r * a**2) ) #* (1 / (np.sqrt(e**2 - ((r/a) - 1)**2)))\n",
    "    s[s == np.inf] = 0\n",
    "    return np.sum(s)\n",
    "e_f = de[:, -1]\n",
    "a_f = da[:, -1]\n",
    "# z_f = (a_f * (1 - e_f)) - op.cb['radius']\n",
    "spatial_density(200*1e3, a_f, e_f)\n",
    "# h, b = np.histogram(z_f/1e3, 1000, (0, 2000))\n",
    "# x    = np.linspace(0, 2000*1e3, 1000)\n",
    "\n",
    "# plt.bar(b[:-1],h,width=1)\n",
    "\n",
    "# predictions = [spatial_density(x*1e3, a_f, e_f) for val in x]\n",
    "# plt.plot(predictions)\n",
    "# plt.show()\n",
    "# predictions"
   ]
  },
  {
   "cell_type": "code",
   "execution_count": null,
   "metadata": {
    "ExecuteTime": {
     "end_time": "2021-03-22T04:39:52.656081Z",
     "start_time": "2021-03-22T04:39:52.532783Z"
    }
   },
   "outputs": [],
   "source": [
    "import plotly.figure_factory as ff\n",
    "from scipy.optimize import curve_fit\n",
    "\n",
    "AM = op.A / op.M\n",
    "z  = (da * (1 - de)) - op.cb['radius']\n",
    "z[z < 0] = 0\n",
    "h, b = np.histogram(z[:, 0])\n",
    "layout = dict(\n",
    "    autosize=False,\n",
    "    width=500,\n",
    "    height=500,\n",
    "    template = 'plotly_white',\n",
    "#     yaxis = dict(\n",
    "#         range=[0,8e5],\n",
    "#         showexponent = 'all',\n",
    "#         exponentformat = 'e'\n",
    "#     ),\n",
    "    legend=dict(\n",
    "        y=0.5,\n",
    "        traceorder='reversed',\n",
    "        font=dict(\n",
    "            size=16\n",
    "        )\n",
    "    )\n",
    ")\n",
    "h_i, b_i = np.histogram(z[:, 0]/1e3, 100, (0, 1500))\n",
    "h_f, b_f = np.histogram(z[:, 1]/1e3, 100, (0, 1500))\n",
    "\n",
    "\n",
    "# fig = go.Figure(data=[go.Scatter3d(x=b_i, z=h_i,y=0*np.ones(len(h_i)), mode='lines', hoverinfo='all',\n",
    "#                                  ),\n",
    "#                       go.Scatter3d(x=b_f, z=h_f,y=200*np.ones(len(h_i)), mode='lines', hoverinfo='all',\n",
    "#                                  )],\n",
    "#                 layout=layout)\n",
    "# fig.show()"
   ]
  },
  {
   "cell_type": "code",
   "execution_count": 17,
   "metadata": {
    "ExecuteTime": {
     "end_time": "2021-04-01T16:01:01.396108Z",
     "start_time": "2021-04-01T16:00:44.430142Z"
    }
   },
   "outputs": [],
   "source": [
    "temp = np.zeros_like(da) # The params set to 0 dont matter for converting to rv\n",
    "ks_propagated = np.swapaxes(np.stack([da, de, di, dOmega, domega, temp, dnu, dp, temp, temp]).T, 1, 2)\n",
    "ks_final = np.concatenate([ks_toroid, ks_propagated])\n",
    "op.states = ks_final\n",
    "\n",
    "cs_final = op.cartesian_representation()"
   ]
  },
  {
   "cell_type": "code",
   "execution_count": 21,
   "metadata": {
    "ExecuteTime": {
     "end_time": "2021-04-01T16:14:27.253303Z",
     "start_time": "2021-04-01T16:14:22.960525Z"
    }
   },
   "outputs": [],
   "source": [
    "import pandas as pandas\n",
    "import plotly.express as px\n",
    "\n",
    "pos_toroid = cs_final[cs_toroid.shape[0]-1:, 0, :, :]/1e3\n",
    "N_timesteps = pos_toroid.shape[0]\n",
    "N_fragments = pos_toroid.shape[1]\n",
    "r_E = op.cb['radius'] / 1e3\n",
    "\n",
    "\n",
    "# Converting data to pandas dataframe\n",
    "df = pandas.DataFrame()\n",
    "# *** Update this if chnage timestep in initial orbit propagation ***\n",
    "dt = 60 * 5 #[s]\n",
    "# Want to show the evolution in 1 day steps\n",
    "timesteps = np.arange(0,N_timesteps, 5)\n",
    "\n",
    "for t in timesteps:   \n",
    "    step = t*np.ones_like(N_timesteps)\n",
    "    time = step  #[day]\n",
    "    d = {'X': pos_toroid[t, :, 0],\n",
    "         'Y': pos_toroid[t, :, 1],\n",
    "         'Z':pos_toroid[t, :, 2],\n",
    "         'Day': time,\n",
    "        }\n",
    "    df = pandas.concat([df, pandas.DataFrame(data=d)])\n",
    "\n",
    "def spheres(size, clr, dist=0): \n",
    "\n",
    "    # Set up 100 points. First, do angles\n",
    "    theta = np.linspace(0,2*np.pi,100)\n",
    "    phi = np.linspace(0,np.pi,100)\n",
    "\n",
    "    # Set up coordinates for points on the sphere\n",
    "    x0 = dist + size * np.outer(np.cos(theta),np.sin(phi))\n",
    "    y0 = size * np.outer(np.sin(theta),np.sin(phi))\n",
    "    z0 = size * np.outer(np.ones(100),np.cos(phi))\n",
    "\n",
    "    # Set up trace\n",
    "    trace= go.Surface(x=x0, y=y0, z=z0, colorscale=[[0,clr], [1,clr]])\n",
    "    trace.update(showscale=False)\n",
    "\n",
    "    return trace\n",
    "fig = px.scatter_3d(\n",
    "    data_frame=df,\n",
    "    x='X',\n",
    "    y='Y',\n",
    "    z='Z',\n",
    "    title='Evolution of debris cloud to Band formation',\n",
    "    #labels={'Years in school (avg)': 'Years Women are in School'},\n",
    "    #hover_data={'Min.': False, 'X': False, 'Y':False, 'Z':False, 'a':':.1f', 'e':':.4f','i':':.1f' },\n",
    "    #hover_name='Orbital Elements',        # values appear in bold in the hover tooltip\n",
    "    height=800,                 # height of graph in pixels\n",
    "    width =800,\n",
    "    animation_frame='Day',   # assign marks to animation frames\n",
    "    range_x=[-r_E - 1000,r_E + 1000],\n",
    "    range_z=[-r_E - 1000,r_E + 1000],\n",
    "    range_y=[-r_E - 1000,r_E + 1000],\n",
    "\n",
    ")\n",
    "fig.update_traces(marker={'size': 1.5, 'color':'#6372f4'})\n",
    "# Add Earth\n",
    "earth=spheres(r_E, '#ffffff', 0) # Earth\n",
    "fig.add_trace(earth)\n",
    "#fig.add_trace(go.Scatter3d(x=xm, y=ym, z=zm, mode='lines', line=dict(color=zm, colorscale='Viridis')))\n",
    "fig['layout']['scene']['aspectmode'] = 'cube'\n",
    "fig.update_layout(transition = {'duration': 2000})\n",
    "fig.update_layout(paper_bgcolor='rgba(0,0,0,0)',\n",
    "            plot_bgcolor='rgba(0,0,0,0)')\n",
    "fig.write_html(\"plots/band.html\")"
   ]
  },
  {
   "cell_type": "code",
   "execution_count": null,
   "metadata": {
    "ExecuteTime": {
     "end_time": "2021-03-25T00:21:05.882401Z",
     "start_time": "2021-03-25T00:21:05.618422Z"
    }
   },
   "outputs": [],
   "source": [
    "len(fig.frames)"
   ]
  },
  {
   "cell_type": "code",
   "execution_count": 19,
   "metadata": {
    "ExecuteTime": {
     "end_time": "2021-04-01T16:08:54.507931Z",
     "start_time": "2021-04-01T16:02:26.913995Z"
    }
   },
   "outputs": [],
   "source": [
    "\n",
    "# filepaths\n",
    "fp_in = \"gifs/frame_*.png\"\n",
    "fp_out = \"gifs/ring.gif\"\n",
    "\n",
    "#Create temp frames\n",
    "for i in range(len(fig.frames)):\n",
    "    temp_fig = go.Figure(fig.frames[i].data, fig.layout)\n",
    "    temp_fig['layout']['title'] = ''\n",
    "    temp_fig['layout']['sliders'] = None\n",
    "    temp_fig['layout']['updatemenus'] = None\n",
    "    temp_fig.update_traces(marker=dict(color='#6372f4', size=1))\n",
    "    temp_fig.update_layout(paper_bgcolor='rgba(0,0,0,0)',\n",
    "            plot_bgcolor='rgba(0,0,0,0)')\n",
    "    temp_fig.add_trace(earth)\n",
    "    temp_fig.write_image(\"gifs/frame_{}.png\".format(i), width=1000, height=1000, scale=1)\n",
    "    \n",
    "import ffmpeg\n",
    "(\n",
    "    ffmpeg\n",
    "    .input('gifs/*.png', pattern_type='glob', framerate=3)\n",
    "    .output('gifs/band.mp4', pix_fmt='yuv420p')\n",
    "    .run()\n",
    ")\n",
    "\n",
    "\n",
    "# # Delete temp frames\n",
    "for i in range(len(fig.frames)):\n",
    "    os.remove(\"gifs/frame_{}.png\".format(i))"
   ]
  },
  {
   "cell_type": "markdown",
   "metadata": {},
   "source": [
    "# Propagation Analysis"
   ]
  },
  {
   "cell_type": "code",
   "execution_count": null,
   "metadata": {
    "ExecuteTime": {
     "end_time": "2021-03-29T20:20:21.151676Z",
     "start_time": "2021-03-29T20:20:20.478288Z"
    }
   },
   "outputs": [],
   "source": [
    "index = int(np.ceil(ks_propagated.shape[0]*.10)) # index near begining\n",
    "raan_0 = ks_propagated[index, 3, :].copy() % 360\n",
    "raan_0[raan_0 > 180] -= 360 # Converting angles to new range\n",
    "\n",
    "raan_mid = ks_propagated[ks_propagated.shape[0] // 2, 3, :].copy()  % 360\n",
    "raan_mid[raan_mid  > 180] -= 360 \n",
    "\n",
    "raan_f = ks_propagated[-1, 3, :].copy() % 360\n",
    "raan_f[raan_f > 180] -= 360"
   ]
  },
  {
   "cell_type": "code",
   "execution_count": null,
   "metadata": {
    "ExecuteTime": {
     "end_time": "2021-03-29T20:20:39.623321Z",
     "start_time": "2021-03-29T20:20:22.935009Z"
    }
   },
   "outputs": [],
   "source": [
    "import math\n",
    "import plotly.figure_factory as ff\n",
    "\n",
    "uniform_dist = np.random.uniform(-180, 180, len(raan_0))\n",
    "group_labels = ['$\\Omega_{initial}$', '$\\Omega_{midpoint}$', '$\\Omega_{final}$', 'uniform']\n",
    "fig = ff.create_distplot([raan_0, raan_mid, raan_f, uniform_dist], group_labels, show_hist =  False)\n",
    "\n",
    "# Updating the uniform curve to be dashed\n",
    "index = np.argwhere(np.array([data.legendgroup for data in fig.data]) == 'uniform')[0][0]\n",
    "fig.data[index].line = dict(color='red', width=2,\n",
    "                             dash='dash')\n",
    "\n",
    "# Layout\n",
    "fig.layout['title'] = dict(text='Longitude of the ascending node distribution',\n",
    "                        x=0.5)\n",
    "fig.layout['xaxis_title'] = '$\\Omega\\:[deg]$'\n",
    "fig.layout['yaxis_title'] = 'Kernel density estimation'\n",
    "fig.layout['template'] = 'plotly_white'\n",
    "\n",
    "py.iplot(fig, filename=\"Longitude of the ascending node distribution\")"
   ]
  },
  {
   "cell_type": "code",
   "execution_count": null,
   "metadata": {
    "ExecuteTime": {
     "end_time": "2021-03-29T20:34:21.543310Z",
     "start_time": "2021-03-29T20:34:21.502608Z"
    }
   },
   "outputs": [],
   "source": [
    "altitudes = da * (1 - de)\n",
    "altitudes -= op.cb['radius']\n",
    "altitudes[altitudes < 0] = 0\n",
    "data = [ go.Scatter(x = np.linspace(i, altitudes.shape[1]) , y = altitudes[i, :]) for i in range(2)]\n",
    "fig = go.Figure(data=data)\n",
    "fig.show()\n",
    "\n"
   ]
  },
  {
   "cell_type": "code",
   "execution_count": null,
   "metadata": {},
   "outputs": [],
   "source": []
  }
 ],
 "metadata": {
  "kernelspec": {
   "display_name": "py38",
   "language": "python",
   "name": "py38"
  },
  "language_info": {
   "codemirror_mode": {
    "name": "ipython",
    "version": 3
   },
   "file_extension": ".py",
   "mimetype": "text/x-python",
   "name": "python",
   "nbconvert_exporter": "python",
   "pygments_lexer": "ipython3",
   "version": "3.8.5"
  }
 },
 "nbformat": 4,
 "nbformat_minor": 4
}
